{
 "cells": [
  {
   "cell_type": "markdown",
   "metadata": {},
   "source": [
    "##### **EJERCICIO DOS** 🧢"
   ]
  },
  {
   "cell_type": "code",
   "execution_count": 1,
   "metadata": {},
   "outputs": [
    {
     "name": "stdout",
     "output_type": "stream",
     "text": [
      "Areas: {'uno': 6.283185307179586, 'dos': 25.132741228718345, 'tres': 56.548667764616276}\n"
     ]
    }
   ],
   "source": [
    "from math import pi\n",
    "\n",
    "def solicitar_datos(datos: list) -> tuple:\n",
    "    return (datos[0], 2 * pi * (datos[1] ** 2))\n",
    "\n",
    "\n",
    "diccionario = {1: [\"uno\", 1], 2: [\"dos\", 2], 3: [\"tres\", 3]}\n",
    "\n",
    "areas_circulos = dict(map(solicitar_datos, diccionario.values()))\n",
    "print(\"Areas:\", areas_circulos)"
   ]
  }
 ],
 "metadata": {
  "kernelspec": {
   "display_name": "Python 3.9.6 64-bit",
   "language": "python",
   "name": "python3"
  },
  "language_info": {
   "codemirror_mode": {
    "name": "ipython",
    "version": 3
   },
   "file_extension": ".py",
   "mimetype": "text/x-python",
   "name": "python",
   "nbconvert_exporter": "python",
   "pygments_lexer": "ipython3",
   "version": "3.9.6"
  },
  "orig_nbformat": 4,
  "vscode": {
   "interpreter": {
    "hash": "66ad2a0fc99eef4a3bf89b375e9b9756c86124817c17e26a015d4a0d647e591d"
   }
  }
 },
 "nbformat": 4,
 "nbformat_minor": 2
}
