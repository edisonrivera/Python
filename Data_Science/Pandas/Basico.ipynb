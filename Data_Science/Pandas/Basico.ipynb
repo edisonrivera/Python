{
 "cells": [
  {
   "cell_type": "markdown",
   "metadata": {},
   "source": [
    "## **Uso de Series con Pandas**"
   ]
  },
  {
   "cell_type": "code",
   "execution_count": 2,
   "metadata": {},
   "outputs": [
    {
     "name": "stdout",
     "output_type": "stream",
     "text": [
      "a    0.972978\n",
      "b   -1.468130\n",
      "c   -1.181076\n",
      "d   -0.032745\n",
      "e   -1.054378\n",
      "dtype: float64\n"
     ]
    }
   ],
   "source": [
    "\"\"\"\n",
    "    Inicio de uso de la librería Pandas\n",
    "\"\"\"\n",
    "\n",
    "import pandas as pd\n",
    "import numpy as np\n",
    "\n",
    "serie = pd.Series(np.random.randn(5), index = [\"a\",\"b\",\"c\",\"d\",\"e\"])\n",
    "print(serie)"
   ]
  },
  {
   "cell_type": "code",
   "execution_count": 3,
   "metadata": {},
   "outputs": [
    {
     "name": "stdout",
     "output_type": "stream",
     "text": [
      "Estela    20\n",
      "Edison    19\n",
      "Carlos    15\n",
      "Name: Datos Estudiantes, dtype: int64\n",
      "Características de la pd.Serie\n",
      "Index(['Estela', 'Edison', 'Carlos'], dtype='object') [20 19 15]\n",
      "\n",
      "Frecuencia de Edades\n",
      "20    1\n",
      "19    1\n",
      "15    1\n",
      "Name: Datos Estudiantes, dtype: int64\n",
      "\n",
      "Frecuencia de Datos\n",
      "Estela    1\n",
      "Edison    1\n",
      "Carlos    1\n",
      "dtype: int64\n",
      "\n",
      "Ordenar por edades\n",
      "Carlos    15\n",
      "Edison    19\n",
      "Estela    20\n",
      "Name: Datos Estudiantes, dtype: int64\n",
      "\n",
      "Ordenar por nombres\n",
      "Carlos    15\n",
      "Edison    19\n",
      "Estela    20\n",
      "Name: Datos Estudiantes, dtype: int64\n",
      "\n",
      "Ordenar por edades y modificar la Serie\n"
     ]
    }
   ],
   "source": [
    "nombres = [\"Estela\", \"Edison\", \"Carlos\"]\n",
    "edades = [20, 19, 15]\n",
    "\n",
    "datos_estudiantes = pd.Series(edades, nombres, name=\"Datos Estudiantes\")\n",
    "print(datos_estudiantes)\n",
    "\n",
    "\n",
    "# Consulta de datos\n",
    "print(\"Características de la pd.Serie\")\n",
    "print(datos_estudiantes.index, datos_estudiantes.values)\n",
    "\n",
    "\n",
    "# Cantidad de veces que se repiten datos\n",
    "print(\"\\nFrecuencia de Edades\")\n",
    "print(datos_estudiantes.value_counts())\n",
    "\n",
    "print(\"\\nFrecuencia de Datos\")\n",
    "print(datos_estudiantes.index.value_counts())\n",
    "\n",
    "\n",
    "# ORDENAR DATOS\n",
    "\n",
    "\"\"\"\n",
    "    Por defecto el métodos sort_values() y sort.index() no modifican la Serie\n",
    "\"\"\"\n",
    "print(\"\\nOrdenar por edades\")\n",
    "print(datos_estudiantes.sort_values())\n",
    "\n",
    "print(\"\\nOrdenar por nombres\")\n",
    "print(datos_estudiantes.sort_index())\n",
    "\n",
    "\n",
    "\"\"\"\n",
    "    Para alterar la Serie ya establecida se usa inplace=True\n",
    "\"\"\"\n",
    "\n",
    "print(\"\\nOrdenar por edades y modificar la Serie\")\n",
    "datos_estudiantes.sort_values(inplace=True)"
   ]
  },
  {
   "cell_type": "code",
   "execution_count": null,
   "metadata": {},
   "outputs": [],
   "source": [
    "# Incuir diccionarios en Panda\n",
    "\n",
    "dictionary = {\"a\" : 1, \"b\" : 2, \"c\" : 3}\n",
    "serie = pd.Series(dictionary)\n",
    "print (serie)"
   ]
  },
  {
   "cell_type": "code",
   "execution_count": null,
   "metadata": {},
   "outputs": [],
   "source": [
    "# Funcionan como diccionarios\n",
    "\n",
    "serie[\"a\"] = 50\n",
    "print (serie)\n",
    "print (\"b\" in serie)\n",
    "print (serie * 2)"
   ]
  },
  {
   "cell_type": "markdown",
   "metadata": {},
   "source": [
    "### Operaciones en Series 🥽"
   ]
  },
  {
   "cell_type": "code",
   "execution_count": null,
   "metadata": {},
   "outputs": [],
   "source": [
    "\"\"\"\n",
    "    Esto nos imprimirá el resultado, pero, no modificará la Serie original\n",
    "    Se puede *, /, + y - \n",
    "\"\"\"\n",
    "\n",
    "# En este caso se el sumo 1 a las edades de los estudiantes\n",
    "datos_estudiantes + 1\n",
    "\n",
    "# Para modificar la Serie se realiza esto:\n",
    "datos_estudiantes += 1\n",
    "datos_estudiantes"
   ]
  },
  {
   "cell_type": "markdown",
   "metadata": {},
   "source": [
    "### Obtener maximos y minimos 🥎"
   ]
  },
  {
   "cell_type": "code",
   "execution_count": null,
   "metadata": {},
   "outputs": [],
   "source": [
    "# Obtiene la edad maxima\n",
    "edad_maxima = datos_estudiantes.max()\n",
    "# Obtiene el index de la edad maxima\n",
    "edad_maxima_index = datos_estudiantes.argmax()\n",
    "\n",
    "print(\"Edad máxima es:\", edad_maxima,\"en la posicion\", edad_maxima_index)\n",
    "\n",
    "# ==============================================================================\n",
    "\n",
    "# Obtiene la edad minima\n",
    "edad_minima = datos_estudiantes.min()\n",
    "# Obtiene el index de la edad minima\n",
    "edad_minima_index = datos_estudiantes.argmin()\n",
    "\n",
    "print(\"Edad minima es:\", edad_minima,\"en la posicion\", edad_minima_index)"
   ]
  },
  {
   "cell_type": "markdown",
   "metadata": {},
   "source": [
    "### Sumar 🎳"
   ]
  },
  {
   "cell_type": "code",
   "execution_count": null,
   "metadata": {},
   "outputs": [],
   "source": [
    "# Se sumaron todas las edades de los estudiantes\n",
    "datos_estudiantes.sum()"
   ]
  },
  {
   "cell_type": "markdown",
   "metadata": {},
   "source": [
    "### Estadística 🎮"
   ]
  },
  {
   "cell_type": "code",
   "execution_count": null,
   "metadata": {},
   "outputs": [],
   "source": [
    "# Moda\n",
    "print(\"Moda:\", datos_estudiantes.mode())\n",
    "\n",
    "# Promedio\n",
    "print(\"\\nPromedio:\", datos_estudiantes.mean())\n",
    "\n",
    "# Mediana\n",
    "print(\"\\nMediana:\", datos_estudiantes.median())\n",
    "\n",
    "# Desviación estándar\n",
    "print(\"\\nDesviación Estandar:\", datos_estudiantes.std())\n",
    "\n",
    "# Cantidad de elementos\n",
    "print(\"\\nN Elementos:\", datos_estudiantes.count())\n",
    "\n",
    "# Descripción de todos los datos\n",
    "print(datos_estudiantes.describe())\n",
    "\n",
    "\n",
    "\"\"\"\n",
    "   Cuartiles\n",
    "\"\"\"\n",
    "\n",
    "print(\"25%\",datos_estudiantes.quantile(0.25))\n",
    "print(\"50%\",datos_estudiantes.quantile(0.50))\n",
    "print(\"75%\",datos_estudiantes.quantile(0.75))"
   ]
  },
  {
   "cell_type": "markdown",
   "metadata": {},
   "source": [
    "### Graficos 🎱"
   ]
  },
  {
   "cell_type": "code",
   "execution_count": null,
   "metadata": {},
   "outputs": [],
   "source": [
    "datos_estudiantes.plot()"
   ]
  },
  {
   "cell_type": "markdown",
   "metadata": {},
   "source": [
    "## **DATAFRAMES en Pandas**"
   ]
  },
  {
   "cell_type": "markdown",
   "metadata": {},
   "source": [
    "##### Listas💊"
   ]
  },
  {
   "cell_type": "code",
   "execution_count": 4,
   "metadata": {},
   "outputs": [
    {
     "name": "stdout",
     "output_type": "stream",
     "text": [
      "          Poblacion  Porcentaje\n",
      "Ecuador        1429       18.56\n",
      "Colombia        123        8.50\n",
      "Nigeria         345        4.50\n",
      "Rusia           673        6.70\n",
      "México          876        6.90\n",
      "Brasil          354       15.50\n",
      "Perú            940        2.56\n",
      "India           456        1.76\n"
     ]
    }
   ],
   "source": [
    "paises = [\"Ecuador\", \"Colombia\", \"Nigeria\", \"Rusia\", \"México\", \"Brasil\", \"Perú\",\"India\"]\n",
    "encabezado = [\"Poblacion\", \"Porcentaje\"]\n",
    "datos = [[1429, 18.56],\n",
    "        [123, 8.5],\n",
    "        [345, 4.5],\n",
    "        [673, 6.7],\n",
    "        [876, 6.9],\n",
    "        [354, 15.5],\n",
    "        [940, 2.56],\n",
    "        [456, 1.76]]\n",
    "\n",
    "datos_paises = pd.DataFrame(datos, index=paises, columns=encabezado)\n",
    "print(datos_paises)"
   ]
  },
  {
   "cell_type": "markdown",
   "metadata": {},
   "source": [
    "##### Diccionarios 📸"
   ]
  },
  {
   "cell_type": "code",
   "execution_count": 5,
   "metadata": {},
   "outputs": [
    {
     "name": "stdout",
     "output_type": "stream",
     "text": [
      "          Poblacion  Porcentaje\n",
      "Ecuador      1429.0       18.56\n",
      "Colombia      123.0        8.50\n",
      "Nigeria       345.0        4.50\n",
      "Rusia         673.0        6.70\n",
      "México        876.0        6.90\n"
     ]
    }
   ],
   "source": [
    "diccionario = {\n",
    "    \"Ecuador\": [1429, 18.56], \"Colombia\" : [123, 8.5], \"Nigeria\" : [345, 4.5],\n",
    "    \"Rusia\" : [673, 6.7], \"México\" : [876, 6.9]\n",
    "}\n",
    "\n",
    "datos_paises_dict = pd.DataFrame(diccionario, index=encabezado);\n",
    "\n",
    "# Cambia la orientacion del DataFrame (horizontal, vertical)\n",
    "datos_paises_dict = datos_paises_dict.T\n",
    "\n",
    "print (datos_paises_dict)"
   ]
  },
  {
   "cell_type": "markdown",
   "metadata": {},
   "source": [
    "##### Atributos Básicos 🥪"
   ]
  },
  {
   "cell_type": "code",
   "execution_count": null,
   "metadata": {},
   "outputs": [],
   "source": [
    "# Nos mostrará el tipo de datos de cada columna\n",
    "print(\"Tipos de datos:\\n\", datos_paises.dtypes)\n",
    "\n",
    "# Valores del DataFrame\n",
    "print(\"\\nValores: \\n\", datos_paises.values)\n",
    "\n",
    "# Tamaño del arreglo\n",
    "print(\"\\nTamaño:\\n\", datos_paises.size)\n",
    "\n",
    "# Acceder a los index\n",
    "print(\"\\nIndices: \\n\", datos_paises.index)\n",
    "\n",
    "# Acceder al nombre de las columnas\n",
    "print(\"\\nColumnas: \\n\", datos_paises.columns)\n"
   ]
  },
  {
   "cell_type": "markdown",
   "metadata": {},
   "source": [
    "##### Acceder a los elementos del DataFrame 🥗"
   ]
  },
  {
   "cell_type": "code",
   "execution_count": 6,
   "metadata": {},
   "outputs": [
    {
     "name": "stdout",
     "output_type": "stream",
     "text": [
      "Acceder a la columna \"Poblacion\" 1 FORMA\n",
      "Ecuador     1429\n",
      "Colombia     123\n",
      "Nigeria      345\n",
      "Rusia        673\n",
      "México       876\n",
      "Brasil       354\n",
      "Perú         940\n",
      "India        456\n",
      "Name: Poblacion, dtype: int64\n",
      "\n",
      "Acceder a la columna \"Poblacion\" 2 FORMA\n",
      "Ecuador     1429\n",
      "Colombia     123\n",
      "Nigeria      345\n",
      "Rusia        673\n",
      "México       876\n",
      "Brasil       354\n",
      "Perú         940\n",
      "India        456\n",
      "Name: Poblacion, dtype: int64\n",
      "\n",
      "Acceder múltiples columnas \"Poblacion\" y \"Porcentaje\"\n",
      "          Poblacion  Porcentaje\n",
      "Ecuador        1429       18.56\n",
      "Colombia        123        8.50\n",
      "Nigeria         345        4.50\n",
      "Rusia           673        6.70\n",
      "México          876        6.90\n",
      "Brasil          354       15.50\n",
      "Perú            940        2.56\n",
      "India           456        1.76\n",
      "\n",
      "Elemento 2 de Poblacion: 345\n",
      "\n",
      "Primero 3 elementos de Poblacion:\n",
      " Ecuador     1429\n",
      "Colombia     123\n",
      "Name: Poblacion, dtype: int64\n"
     ]
    }
   ],
   "source": [
    "# Acceder a una columna de una forma\n",
    "print(\"Acceder a la columna \\\"Poblacion\\\" 1 FORMA\")\n",
    "print(datos_paises.Poblacion)\n",
    "\n",
    "# Acceder a una columna de otra forma\n",
    "print(\"\\nAcceder a la columna \\\"Poblacion\\\" 2 FORMA\")\n",
    "print(datos_paises[\"Poblacion\"])\n",
    "\n",
    "# Accediendo a múltiples columnas\n",
    "print(\"\\nAcceder múltiples columnas \\\"Poblacion\\\" y \\\"Porcentaje\\\"\")\n",
    "print(datos_paises[encabezado])\n",
    "\n",
    "# Acceder a un dato en particular\n",
    "print(\"\\nElemento 2 de Poblacion:\",datos_paises[\"Poblacion\"][2])\n",
    "\n",
    "# Acceder a mucho datos a la vez\n",
    "print(\"\\nPrimero 3 elementos de Poblacion:\\n\",datos_paises[\"Poblacion\"][:2])"
   ]
  },
  {
   "cell_type": "markdown",
   "metadata": {},
   "source": [
    "##### iloc 🌼"
   ]
  },
  {
   "cell_type": "code",
   "execution_count": null,
   "metadata": {},
   "outputs": [],
   "source": [
    "# iloc -> Tenemos que pasasrle un entero como arg\n",
    "print(\"Datos del elemento número 1\")\n",
    "print(datos_paises.iloc[1])\n",
    "\n",
    "# loc -> Tenemos que pasarle la key como arg\n",
    "print(\"\\nDatos del elemento \\\"Ecuador\\\"\")\n",
    "print(datos_paises.loc[\"Ecuador\"])"
   ]
  },
  {
   "cell_type": "markdown",
   "metadata": {},
   "source": [
    "#### Métodos Básicos 🍗"
   ]
  },
  {
   "cell_type": "code",
   "execution_count": null,
   "metadata": {},
   "outputs": [],
   "source": [
    "# Cambiar el tipo de dato\n",
    "datos_paises[\"Poblacion\"] = datos_paises[\"Poblacion\"].astype(\"int\")\n",
    "\n",
    "# Información acerca de nuestro DataFrame\n",
    "print(datos_paises.info())\n",
    "\n",
    "# Obtener los primeros 5 renglones de mi DataFrame\n",
    "print(\"Primeros 5 renglones:\\n\", datos_paises.head())\n",
    "\n",
    "# Obtener los últimos 5 renglones de mi DataFrame\n",
    "print(\"\\nÚltimos 5 renglones:\\n\", datos_paises.tail())"
   ]
  },
  {
   "cell_type": "markdown",
   "metadata": {},
   "source": [
    "##### Ordenar 🍟"
   ]
  },
  {
   "cell_type": "code",
   "execution_count": null,
   "metadata": {},
   "outputs": [],
   "source": [
    "# Ordenar los datos en base a la columna \"Porcentaje\"\n",
    "print(\"Ordenar por Porcentaje\")\n",
    "print(datos_paises.sort_values(by=[\"Porcentaje\"], ascending=False))\n",
    "\n",
    "# Ordenar los datos en base a los indices \n",
    "print(\"\\nOrdenar por INDEX\")\n",
    "print(datos_paises.sort_index()) "
   ]
  },
  {
   "cell_type": "markdown",
   "metadata": {},
   "source": [
    "##### **AGREGAR y BORRAR RENGLONES** 🍩"
   ]
  },
  {
   "cell_type": "markdown",
   "metadata": {},
   "source": [
    "##### Columnas 🥨"
   ]
  },
  {
   "cell_type": "code",
   "execution_count": null,
   "metadata": {},
   "outputs": [],
   "source": [
    "tasa_fertilidad = [7.6,7.8,6.8,6.0,8.7,9.8,4.5,6.7]\n",
    "\n",
    "# Agregar una columna al DataFrame\n",
    "datos_paises[\"Tasa Fertilidad\"] = tasa_fertilidad\n",
    "\n",
    "\"\"\"\n",
    "   Eliminar una columnas del DataFrame\n",
    "\n",
    "   1) pop(\"nombre_columna\") -> Elimina la columna y nos la muestra por pantalla\n",
    "   2) del datos_paises[\"nombre_columna\"] -> Elimina directamente\n",
    "\n",
    "   axis = 1 - > Borra una columna\n",
    "   axis = 0 - > Borra un renglón\n",
    "   inplace = True -> Modifica el DataFrame original\n",
    "   3) datos_paises.drop(\"nombre_columna\", axis=1, inplace = True)\n",
    "\"\"\"\n",
    "datos_paises.drop(\"Tasa Fertilidad\", axis=1, inplace = True)\n",
    "datos_paises"
   ]
  },
  {
   "cell_type": "code",
   "execution_count": null,
   "metadata": {},
   "outputs": [],
   "source": []
  },
  {
   "cell_type": "markdown",
   "metadata": {},
   "source": [
    "##### Renglones 🍚"
   ]
  },
  {
   "cell_type": "code",
   "execution_count": null,
   "metadata": {},
   "outputs": [],
   "source": [
    "# Añadir un renglón al DataFrame\n",
    "renglon = pd.Series(name=\"Chile\", data=[234, 5.6], index=[\"Poblacion\", \"Porcentaje\"])\n",
    "datos_paises = datos_paises.append(renglon)\n",
    "print(datos_paises)\n",
    "\n",
    "# Eliminar un renglón del DataFrame\n",
    "print(\"\\n Se eliminaron los renglones\")\n",
    "datos_paises.drop([\"Chile\"], axis=0, inplace=True)\n",
    "print(datos_paises)"
   ]
  },
  {
   "cell_type": "markdown",
   "metadata": {},
   "source": [
    "##### Funciones de estadística 🍴"
   ]
  },
  {
   "cell_type": "code",
   "execution_count": null,
   "metadata": {},
   "outputs": [],
   "source": [
    "# Muestra datos sobre el DataFrame\n",
    "datos_paises.describe()"
   ]
  },
  {
   "cell_type": "code",
   "execution_count": null,
   "metadata": {},
   "outputs": [],
   "source": [
    "# Suma acumulativa\n",
    "datos_paises.cumsum()"
   ]
  },
  {
   "cell_type": "code",
   "execution_count": 115,
   "metadata": {},
   "outputs": [
    {
     "data": {
      "text/plain": [
       "<AxesSubplot:>"
      ]
     },
     "execution_count": 115,
     "metadata": {},
     "output_type": "execute_result"
    },
    {
     "data": {
      "image/png": "[encoded data removed]",
      "text/plain": [
       "<Figure size 432x288 with 1 Axes>"
      ]
     },
     "metadata": {
      "needs_background": "light"
     },
     "output_type": "display_data"
    }
   ],
   "source": [
    "datos_paises.boxplot()"
   ]
  },
  {
   "cell_type": "code",
   "execution_count": null,
   "metadata": {},
   "outputs": [],
   "source": [
    "# Modificar el DataFrame\n",
    "\n",
    "\"\"\"\n",
    "    Podemos cambiar el orden en el que se presenta la información\n",
    "    columns = [\"Column Name\", \"Column Name\", ...]\n",
    "\"\"\"\n",
    "datos = {\"Nombres\" : [\"Estela\", \"Edison\", \"Carlos\"], \"Edades\" : [20, 19, 15]}\n",
    "data_frame_mod = pd.DataFrame(datos, index=[1,2,3], columns=[\"Edades\", \"Nombres\"])\n",
    "print(data_frame_mod)\n",
    "\n",
    "# Mostrar los datos que solicitemos\n",
    "print(data_frame_mod.index)\n",
    "print(data_frame_mod.columns)\n"
   ]
  },
  {
   "cell_type": "code",
   "execution_count": null,
   "metadata": {},
   "outputs": [],
   "source": [
    "# orient = \"index\" Las keys pasarán a ser index\n",
    "\n",
    "data_frame_change = pd.DataFrame.from_dict(dict([(\"A\", [1,2,3]), (\"B\", [4,5,6])]), orient=\"index\", columns = [\"One\", \"Segunda\", \"Tercera\"])\n",
    "print(data_frame_change)"
   ]
  },
  {
   "cell_type": "code",
   "execution_count": null,
   "metadata": {},
   "outputs": [],
   "source": [
    "# Consultar datos \n",
    "data_frame_change[\"One\"]\n",
    "\n",
    "# Operaciones entre columnas\n",
    "# Se puede aplicar slices al momento de seleccionar datos \n",
    "\n",
    "\n",
    "# Añadiendo y seleccionando columnas\n",
    "data_frame_change[\"Suma\"] = data_frame_change[\"One\"] + data_frame_change[\"Segunda\"] + data_frame_change[\"Tercera\"]\n",
    "data_frame_change[\"Condicion\"] = data_frame_change[\"Suma\"] > 10\n",
    "print(data_frame_change)\n",
    "\n",
    "\n",
    "# Eliminar columnas\n",
    "del (data_frame_change[\"Condicion\"])\n",
    "\n",
    "print(\"\\nDespues de eliminar\")\n",
    "print(data_frame_change)\n",
    "\n",
    "\n",
    "# Cambiar los datos a nivel general\n",
    "print(\"\\nDespues de cambiar\")\n",
    "data_frame_change[\"Suma\"] = 50\n",
    "print(data_frame_change)\n",
    "\n",
    "\n",
    "\n",
    "# Insertar columnas\n",
    "print(\"\\nDespues de insertar\")\n",
    "data_frame_change.insert(3, \"Cuarta\", data_frame_change[\"Segunda\"])\n",
    "print(data_frame_change)"
   ]
  }
 ],
 "metadata": {
  "interpreter": {
   "hash": "66ad2a0fc99eef4a3bf89b375e9b9756c86124817c17e26a015d4a0d647e591d"
  },
  "kernelspec": {
   "display_name": "Python 3.9.6 64-bit",
   "language": "python",
   "name": "python3"
  },
  "language_info": {
   "codemirror_mode": {
    "name": "ipython",
    "version": 3
   },
   "file_extension": ".py",
   "mimetype": "text/x-python",
   "name": "python",
   "nbconvert_exporter": "python",
   "pygments_lexer": "ipython3",
   "version": "3.9.6"
  },
  "orig_nbformat": 4
 },
 "nbformat": 4,
 "nbformat_minor": 2
}
