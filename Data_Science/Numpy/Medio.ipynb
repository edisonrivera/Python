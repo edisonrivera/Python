{
 "cells": [
  {
   "cell_type": "markdown",
   "metadata": {},
   "source": [
    "## **BUSQUEDAS** 🥎"
   ]
  },
  {
   "cell_type": "code",
   "execution_count": null,
   "metadata": {},
   "outputs": [],
   "source": [
    "import numpy as np"
   ]
  },
  {
   "cell_type": "markdown",
   "metadata": {},
   "source": [
    "#### **WHERE** 🎠"
   ]
  },
  {
   "cell_type": "code",
   "execution_count": null,
   "metadata": {},
   "outputs": [],
   "source": [
    "random_numbers = np.random.permutation(np.arange(100))\n",
    "\n",
    "# Nos regresa una arreglo de posiciones\n",
    "print(np.where(random_numbers > 50))"
   ]
  },
  {
   "cell_type": "markdown",
   "metadata": {},
   "source": [
    "#### **FILTROS** 🎞"
   ]
  },
  {
   "cell_type": "code",
   "execution_count": null,
   "metadata": {},
   "outputs": [],
   "source": [
    "# Nos regresa un array de booleanos\n",
    "np_filtrada = random_numbers > 10\n",
    "print(\"Array Booleano\")\n",
    "print(np_filtrada)\n",
    "\n",
    "# Nos regresa los elementos que cumplan con la condicion\n",
    "print(\"\\nDatos filtrados CONDITION: (> 10)\")\n",
    "np_filter = random_numbers[random_numbers > 10]\n",
    "print(np_filter)"
   ]
  },
  {
   "cell_type": "markdown",
   "metadata": {},
   "source": [
    "###### **EJERCICIO** 🎨"
   ]
  },
  {
   "cell_type": "code",
   "execution_count": null,
   "metadata": {},
   "outputs": [],
   "source": [
    "paises = np.array([\"Ecuador\", \"Afghanistan\",\"Irak\", \"Rusia\", \"Chile\", \"Argentina\",\n",
    "\"Colombia\", \"Venezuela\", \"Estados Unidos\", \"Australia\", \"Noruega\", \"Africa\", \"Mexico\",\n",
    "\"Guatemala\", \"Canada\", \"Francia\", \"Japon\", \"Corea\", \"Italia\", \"Costa Rica\", \"Uruguay\",\n",
    "\"Paraguay\", \"Madagascar\", \"Alemania\"])\n",
    "\n",
    "pesos = np.random.rand(paises.size) * 100\n",
    "altura = np.random.rand(paises.size) * 10\n",
    "\n",
    "bmi = pesos / (altura ** 2)\n",
    "\n",
    "paises_sobrepeso = paises[bmi > 10]\n",
    "print(\"--- Paises con sobrepeso ---\")\n",
    "print(paises_sobrepeso)"
   ]
  },
  {
   "cell_type": "markdown",
   "metadata": {},
   "source": [
    "#### **Filtrado Compuesto** ⚽"
   ]
  },
  {
   "cell_type": "code",
   "execution_count": null,
   "metadata": {},
   "outputs": [],
   "source": [
    "# Las condiciones se ponen en parentesis \"()\"\n",
    "\n",
    "# & and\n",
    "paises_condicion = paises[(pesos < 40) & (altura > 1.5)]\n",
    "print(\"--- Paises CONDICION (peso < 40kg) & (altura > 1.5m) ---\")\n",
    "print(paises_condicion)\n",
    "\n",
    "\n",
    "# | or\n",
    "paises_condicion_or = paises[(pesos < 40) | (altura > 1.5)]\n",
    "print(\"\\n--- Paises CONDICION (peso < 40kg) | (altura > 1.5m) ---\")\n",
    "print(paises_condicion_or)"
   ]
  },
  {
   "cell_type": "markdown",
   "metadata": {},
   "source": [
    "#### **min y max** 🎆"
   ]
  },
  {
   "cell_type": "code",
   "execution_count": null,
   "metadata": {},
   "outputs": [],
   "source": [
    "max_peso = pesos.max()\n",
    "index_max_peso = pesos.argmax()\n",
    "print(f\"PESO MAXIMO: index [{index_max_peso}] peso [{max_peso}]\")\n",
    "\n",
    "min_peso = pesos.min()\n",
    "index_min_peso = pesos.argmin()\n",
    "print(f\"PESO MINIMO: index [{index_min_peso}] peso [{min_peso}]\")"
   ]
  },
  {
   "cell_type": "markdown",
   "metadata": {},
   "source": [
    "###### **Cambiar de orientacion la matriz** 🎋"
   ]
  },
  {
   "cell_type": "code",
   "execution_count": null,
   "metadata": {},
   "outputs": [],
   "source": [
    "alturas_pesos = np.array([[1.12, 84.45],\n",
    "                          [1.65, 45.65],\n",
    "                          [1.54, 66.23],\n",
    "                          [1.67, 76.43],\n",
    "                          [1.87, 12.53],\n",
    "                          [1.32, 78.78],\n",
    "                          [1.23, 85.67],\n",
    "                          [1.80, 46.12]])\n",
    "\n",
    "alturas_pesos = alturas_pesos.transpose()\n",
    "alturas_pesos"
   ]
  },
  {
   "cell_type": "markdown",
   "metadata": {},
   "source": [
    "##### **Ejes** 🕶"
   ]
  },
  {
   "cell_type": "code",
   "execution_count": 21,
   "metadata": {},
   "outputs": [
    {
     "name": "stdout",
     "output_type": "stream",
     "text": [
      "Maximos (axis=0): [ 1.87 85.67]\n",
      "Minimos (axis=0): [ 1.12 12.53]\n",
      "Suma (axis=0): [ 12.2  495.86]\n",
      "\n",
      "Maximos (axis=1): [84.45 45.65 66.23 76.43 12.53 78.78 85.67 46.12]\n",
      "Minimos (axis=1): [1.12 1.65 1.54 1.67 1.87 1.32 1.23 1.8 ]\n",
      "Suma (axis=1): [85.57 47.3  67.77 78.1  14.4  80.1  86.9  47.92]\n"
     ]
    }
   ],
   "source": [
    "alturas_pesos = np.array([[1.12, 84.45],\n",
    "                          [1.65, 45.65],\n",
    "                          [1.54, 66.23],\n",
    "                          [1.67, 76.43],\n",
    "                          [1.87, 12.53],\n",
    "                          [1.32, 78.78],\n",
    "                          [1.23, 85.67],\n",
    "                          [1.80, 46.12]])\n",
    "\n",
    "# Al trabajar con ejes estamos refiriendonos a las columnas y filas\n",
    "# axis=0 => Columnas; axis=1 => Filas\n",
    "\n",
    "\n",
    "print(\"Maximos (axis=0):\",alturas_pesos.max(axis=0))\n",
    "print(\"Minimos (axis=0):\",alturas_pesos.min(axis=0))\n",
    "print(\"Suma (axis=0):\", alturas_pesos.sum(axis=0))\n",
    "\n",
    "print(\"\\nMaximos (axis=1):\",alturas_pesos.max(axis=1))\n",
    "print(\"Minimos (axis=1):\",alturas_pesos.min(axis=1))\n",
    "print(\"Suma (axis=1):\", alturas_pesos.sum(axis=1))"
   ]
  }
 ],
 "metadata": {
  "kernelspec": {
   "display_name": "Python 3.9.6 64-bit",
   "language": "python",
   "name": "python3"
  },
  "language_info": {
   "codemirror_mode": {
    "name": "ipython",
    "version": 3
   },
   "file_extension": ".py",
   "mimetype": "text/x-python",
   "name": "python",
   "nbconvert_exporter": "python",
   "pygments_lexer": "ipython3",
   "version": "3.9.6"
  },
  "orig_nbformat": 4,
  "vscode": {
   "interpreter": {
    "hash": "66ad2a0fc99eef4a3bf89b375e9b9756c86124817c17e26a015d4a0d647e591d"
   }
  }
 },
 "nbformat": 4,
 "nbformat_minor": 2
}
