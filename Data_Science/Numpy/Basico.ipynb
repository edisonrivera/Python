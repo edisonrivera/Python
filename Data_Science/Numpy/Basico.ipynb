{
 "cells": [
  {
   "cell_type": "markdown",
   "metadata": {},
   "source": [
    "## NUMPY 🌭"
   ]
  },
  {
   "cell_type": "code",
   "execution_count": null,
   "metadata": {},
   "outputs": [],
   "source": [
    "import numpy as np"
   ]
  },
  {
   "cell_type": "code",
   "execution_count": null,
   "metadata": {},
   "outputs": [],
   "source": [
    "lista_numeros = [0,45,6,7,5,2,342,3423,44,5,6,8,6,1,1,2]\n",
    "np_lista_numeros = np.array(lista_numeros)\n",
    "# Verificamos el tipo de array\n",
    "print(type(np_lista_numeros))"
   ]
  },
  {
   "cell_type": "markdown",
   "metadata": {},
   "source": [
    "##### Algunas funciones ⚙"
   ]
  },
  {
   "cell_type": "code",
   "execution_count": null,
   "metadata": {},
   "outputs": [],
   "source": [
    "# Numero de dimensiones del array\n",
    "print(\"The array have\",np_lista_numeros.ndim,\"dimension\")\n",
    "\n",
    "np_b = np.array([[1,2,3], [4,5,6]])\n",
    "\n",
    "# Retorna una tupla (nDimension, longitud)\n",
    "print(\"Tupla:\",np_b.shape)\n",
    "print(\"Dimension del nparray:\",np_b.shape[0], \"y tiene una longitud de:\", np_b.shape[1])\n",
    "\n",
    "# Acceder a valores de listas dentro otras listas\n",
    "print(\"Acceder al valor de la primer lista y en la primera posicion:\",np_b[0,1])\n",
    "\n",
    "# Numero tota de los elementos\n",
    "print(f\"El array tiene {np_b.size} elementos\")\n",
    "\n",
    "# Retorna el espacio que ocupa en memoria\n",
    "print(f\"Numero de bytes es {np_b.nbytes}\")"
   ]
  },
  {
   "cell_type": "markdown",
   "metadata": {},
   "source": [
    "#### arange, reshape, random ♟"
   ]
  },
  {
   "cell_type": "code",
   "execution_count": null,
   "metadata": {},
   "outputs": [],
   "source": [
    "# Crear un array con un delimitador\n",
    "\"\"\"\n",
    "    np.arange(inicio, final, paso)\n",
    "\"\"\"\n",
    "\n",
    "many_numbers = np.arange(40)\n",
    "print(f\"Tipo de array f{type(many_numbers)} y su contenido:\")\n",
    "print(many_numbers)"
   ]
  },
  {
   "cell_type": "code",
   "execution_count": null,
   "metadata": {},
   "outputs": [],
   "source": [
    "# Crear un array con numeros ordenados randomicamente\n",
    "random_order_numbers = np.random.permutation(np.arange(10))\n",
    "print(random_order_numbers)"
   ]
  },
  {
   "cell_type": "code",
   "execution_count": null,
   "metadata": {},
   "outputs": [],
   "source": [
    "# Regresar un numero random\n",
    "\"\"\"\n",
    "    np.random.randint(inicio, final)\n",
    "\"\"\"\n",
    "number_random = np.random.randint(2,5)\n",
    "print(f\"Numero random {number_random}\")\n"
   ]
  },
  {
   "cell_type": "code",
   "execution_count": null,
   "metadata": {},
   "outputs": [],
   "source": [
    "# Reshape\n",
    "import matplotlib.pyplot as plt\n",
    "np_random_array = np.random.rand(100)\n",
    "plt.hist(np_random_array)"
   ]
  },
  {
   "cell_type": "markdown",
   "metadata": {},
   "source": [
    "### Arrays de Ceros 🧥"
   ]
  },
  {
   "cell_type": "code",
   "execution_count": null,
   "metadata": {},
   "outputs": [],
   "source": [
    "# Array de ceros\n",
    "array_zeros = np.zeros(10)\n",
    "array_zeros"
   ]
  },
  {
   "cell_type": "markdown",
   "metadata": {},
   "source": [
    "## **Operar con Arrays** 🧥"
   ]
  },
  {
   "cell_type": "code",
   "execution_count": null,
   "metadata": {},
   "outputs": [],
   "source": [
    "\"\"\"\n",
    "    Podemos realizar las operaciones basica con arrays y entres arrays\n",
    "\"\"\"\n",
    "edades = np.arange(18,36)\n",
    "edades_siguiente = edades + 1\n",
    "print(edades_siguiente)"
   ]
  },
  {
   "cell_type": "markdown",
   "metadata": {},
   "source": [
    "#### **Metodos estadisticos** 🦺"
   ]
  },
  {
   "cell_type": "code",
   "execution_count": null,
   "metadata": {},
   "outputs": [],
   "source": [
    "# SUMA\n",
    "print(\"La suma total de la edades es:\", edades.sum())\n",
    "\n",
    "# PROMEDIO\n",
    "print(\"Promedio de la edades es:\", edades.mean())\n",
    "\n",
    "# VARIANZA\n",
    "print(\"varianza de la edades es:\", round(edades.var(),3))"
   ]
  },
  {
   "cell_type": "markdown",
   "metadata": {},
   "source": [
    "#### **Ordenar un np.array** 🎞"
   ]
  },
  {
   "cell_type": "code",
   "execution_count": null,
   "metadata": {},
   "outputs": [],
   "source": [
    "array_desordenado = [1,2,3,45,5,6,7,8,3,4,5,3,2,2,3,4,4,435,756,43,1,421,43,34,]\n",
    "array_ordenado_asc = np.sort(array_desordenado)\n",
    "array_ordenado_desc = np.array(sorted(array_desordenado, reverse=True))\n",
    "print(\"Array Ordenado Forma: ASCENDENTE\")\n",
    "print(array_ordenado_asc)\n",
    "print(\"\\nArray Ordenado Forma: DESCENDENTE\")\n",
    "print(array_ordenado_desc)"
   ]
  },
  {
   "cell_type": "markdown",
   "metadata": {},
   "source": [
    "#### **Seleccionar elementos de un array** 🎩"
   ]
  },
  {
   "cell_type": "code",
   "execution_count": null,
   "metadata": {},
   "outputs": [],
   "source": [
    "elementos_aleatorios = np.random.permutation(np.arange(50))\n",
    "array_dimensional = elementos_aleatorios.reshape(5,10)\n",
    "print(\"El array es:\")\n",
    "print(array_dimensional)\n",
    "\n",
    "print(\"\\n--- Seleccionar elementos especificos ---\")\n",
    "print(\"- Elemento [1], Lista [2]:\", array_dimensional[1,0])\n",
    "print(\"- Elemento [3], Lista [5]:\", array_dimensional[4,2])\n",
    "\n",
    "print(\"\\n--- Seleccionar columnas ---\")\n",
    "print(\"Seleccionar columna (2):\", array_dimensional[:,1])\n",
    "print(\"Seleccionar columna (4):\", array_dimensional[:,3])\n",
    "\n",
    "print(\"\\n--- Filtrar datos ---\")\n",
    "array_filtrado = array_dimensional[array_dimensional > 40]\n",
    "print(\"(Numeros > 20):\", array_filtrado)"
   ]
  }
 ],
 "metadata": {
  "interpreter": {
   "hash": "66ad2a0fc99eef4a3bf89b375e9b9756c86124817c17e26a015d4a0d647e591d"
  },
  "kernelspec": {
   "display_name": "Python 3.9.6 64-bit",
   "language": "python",
   "name": "python3"
  },
  "language_info": {
   "codemirror_mode": {
    "name": "ipython",
    "version": 3
   },
   "file_extension": ".py",
   "mimetype": "text/x-python",
   "name": "python",
   "nbconvert_exporter": "python",
   "pygments_lexer": "ipython3",
   "version": "3.9.6"
  },
  "orig_nbformat": 4
 },
 "nbformat": 4,
 "nbformat_minor": 2
}
