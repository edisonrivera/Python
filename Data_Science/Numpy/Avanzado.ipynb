{
 "cells": [
  {
   "cell_type": "markdown",
   "metadata": {},
   "source": [
    "## **Union y Separacion de Arrays** 🖼"
   ]
  },
  {
   "cell_type": "code",
   "execution_count": null,
   "metadata": {},
   "outputs": [],
   "source": [
    "import numpy as np"
   ]
  },
  {
   "cell_type": "code",
   "execution_count": null,
   "metadata": {},
   "outputs": [],
   "source": [
    "pesos = np.random.rand(10) * 100\n",
    "alturas = np.random.rand(10) * 10"
   ]
  },
  {
   "cell_type": "markdown",
   "metadata": {},
   "source": [
    "#### **Uso de _stack_ [UNION]** 👖"
   ]
  },
  {
   "cell_type": "markdown",
   "metadata": {},
   "source": [
    "###### **Une los arreglos para forma un nuevo arreglo multidimensional**"
   ]
  },
  {
   "cell_type": "code",
   "execution_count": null,
   "metadata": {},
   "outputs": [],
   "source": [
    "array_unido = np.stack((pesos,alturas),axis=1)\n",
    "print(\"--- Array Unido (axis=1) ---\")\n",
    "print(array_unido)"
   ]
  },
  {
   "cell_type": "markdown",
   "metadata": {},
   "source": [
    "#### **Uso de _concatenate_ [UNION]** 🎭"
   ]
  },
  {
   "cell_type": "markdown",
   "metadata": {},
   "source": [
    "###### **Une los dos arreglos en 1 solo arreglo**"
   ]
  },
  {
   "cell_type": "code",
   "execution_count": null,
   "metadata": {},
   "outputs": [],
   "source": [
    "array_concatenado = np.concatenate((pesos,alturas))\n",
    "print(\"--- Array Concatenado ---\\n\",array_concatenado)"
   ]
  },
  {
   "cell_type": "markdown",
   "metadata": {},
   "source": [
    "#### **Uso de _split_ [SEPARACION]** 💎"
   ]
  },
  {
   "cell_type": "code",
   "execution_count": null,
   "metadata": {},
   "outputs": [],
   "source": [
    "array_unido = np.stack((pesos,alturas))\n",
    "print(\"Arreglo a separar:\")\n",
    "print(array_unido)\n",
    "# np.split(array, n#) => n# indicamos el numero de arrays que queremos\n",
    "arrays_separados = np.split(array_unido, 2)\n",
    "print(\"\\nArreglo separado:\")\n",
    "print(arrays_separados)"
   ]
  },
  {
   "cell_type": "markdown",
   "metadata": {},
   "source": [
    "## **Funciones Universales** 🎣"
   ]
  },
  {
   "cell_type": "code",
   "execution_count": null,
   "metadata": {},
   "outputs": [],
   "source": [
    "lista_uno = np.array([1,2,3,4,5])\n",
    "lista_dos = np.array([8,36,1,2,3])\n",
    "lista_tres = np.random.permutation(np.arange(-5,2))\n",
    "\n",
    "print(\"SUMA: \", np.add(lista_uno, lista_dos))\n",
    "print(\"RESTA: \", np.subtract(lista_uno, lista_dos))\n",
    "print(\"MULTIPLICACION: \", np.multiply(lista_uno, lista_dos))\n",
    "print(\"DIVISION: \", np.divide(lista_uno, lista_dos))\n",
    "print(\"POTENCIA: \", np.power(lista_dos, 2))\n",
    "print(\"ABS: \", np.absolute(lista_tres))"
   ]
  },
  {
   "cell_type": "markdown",
   "metadata": {},
   "source": [
    "##### **Crear Funcion Universal** 🪁"
   ]
  },
  {
   "cell_type": "markdown",
   "metadata": {},
   "source": [
    "###### **Se creara un funcion vectorizada** "
   ]
  },
  {
   "cell_type": "code",
   "execution_count": null,
   "metadata": {},
   "outputs": [],
   "source": [
    "peso = np.random.permutation(np.arange(1, 20))\n",
    "altura = np.random.permutation(np.arange(1, 20))\n",
    "\n",
    "\n",
    "def calcular_imc(peso, altura):\n",
    "    return peso / (altura ** 2)\n",
    "\n",
    "# np.frompyfunc(fuction, numero de argumentos, argumentos de salida)\n",
    "calcular_imc = np.frompyfunc(calcular_imc, 2, 1)\n",
    "print(\"Verificar tipo funcion \", type(calcular_imc), \"\\n\")\n",
    "\n",
    "print(\"Resultados de la funcion vectorizada o universal\")\n",
    "print(calcular_imc(peso,altura))"
   ]
  }
 ],
 "metadata": {
  "kernelspec": {
   "display_name": "Python 3.9.6 64-bit",
   "language": "python",
   "name": "python3"
  },
  "language_info": {
   "codemirror_mode": {
    "name": "ipython",
    "version": 3
   },
   "file_extension": ".py",
   "mimetype": "text/x-python",
   "name": "python",
   "nbconvert_exporter": "python",
   "pygments_lexer": "ipython3",
   "version": "3.9.6"
  },
  "orig_nbformat": 4,
  "vscode": {
   "interpreter": {
    "hash": "66ad2a0fc99eef4a3bf89b375e9b9756c86124817c17e26a015d4a0d647e591d"
   }
  }
 },
 "nbformat": 4,
 "nbformat_minor": 2
}
