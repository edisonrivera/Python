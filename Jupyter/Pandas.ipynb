{
 "cells": [
  {
   "cell_type": "code",
   "execution_count": null,
   "metadata": {},
   "outputs": [],
   "source": [
    "import pandas as pd\n",
    "\n",
    "y = {\"Crecimiento\" : [2,4,6,8]}\n",
    "x = sorted([10,25,32,3])\n",
    "\n",
    "graph = pd.DataFrame(y,x)\n",
    "graph.plot(kind=\"line\",grid=True,title=\"My Graph\",ylabel=\"Y\",xlabel = \"X\")"
   ]
  },
  {
   "cell_type": "code",
   "execution_count": null,
   "metadata": {},
   "outputs": [],
   "source": [
    "import pandas as pd\n",
    "dictionary = {\"Name\" : [\"Estela Chipantasi\",\"Edison Rivera\"], \"Age\" :[20,18], \"Genre\": [\"Female\",\"Male\"]}\n",
    "graph = pd.DataFrame(dictionary)\n",
    "#print(graph.select_dtypes(exclude=['int64'])) #['float64'] or ['int64']\n",
    "\n",
    "print(graph.describe()) #Describe atributos varios "
   ]
  },
  {
   "cell_type": "code",
   "execution_count": null,
   "metadata": {},
   "outputs": [],
   "source": [
    "import pandas as pd\n",
    "\n",
    "y = {\"Crecimiento\" : [2,4,6,8],\"Otra_grafica\" : [20,40,60,80]}\n",
    "x = sorted([10,25,32,3])\n",
    "\n",
    "graph = pd.DataFrame(y,x)\n",
    "graph_image = graph.plot(kind=\"line\",grid=True,title=\"Tiempo en TV\",ylabel=\"Horas\",xlabel = \"Dias\",xlim=(0,35)).get_figure()\n",
    "graph_image.savefig(r\"C:\\Users\\pc\\Python\\Jupyter\\Graphs\\first_graph\")"
   ]
  },
  {
   "cell_type": "code",
   "execution_count": null,
   "metadata": {},
   "outputs": [],
   "source": [
    "import pandas as pd\n",
    "\n",
    "tabla = pd.read_csv(r\"C:\\Users\\pc\\Python\\Jupyter\\Datos\\tabla.csv\")\n",
    "tabla\n",
    "\n",
    "#p23 = tabla[tabla[\"Embarked\"].isin([\"S\"])] #-> Filtra por la condicion que se le de.\n",
    "#p23\n",
    "#age_above35 = tabla[(tabla[\"Age\"] >= 35) & (tabla[\"Embarked\"] == \"S\")] # -> Filtrar por edad (&and |or)\n",
    "#age_above35\n",
    "\n",
    "#adult_names = tabla.loc[tabla[\"Age\"] >= 35,\"Name\"]\n",
    "#adult_names.head()\n",
    "\n",
    "#know_cabin = tabla[tabla[\"Cabin\"].notna()] -> Si no hay resultado en una fila no la muestra\n",
    "#know_cabin\n",
    "\n",
    "#genre_ticket = tabla[['Age','Ticket']] -> Seleccionar filas exclusivas\n",
    "#genre_ticket.head() -> No lo sé aún\n",
    "#print(table.dtypes) Tipo de datos de las filas"
   ]
  },
  {
   "cell_type": "code",
   "execution_count": null,
   "metadata": {},
   "outputs": [],
   "source": [
    "import pandas as pd\n",
    "\n",
    "y = {\"Crecimiento\" : [2,4,6,8],\"Otra_grafica\" : [20,40,60,80]}\n",
    "x = sorted([10,25,32,3])\n",
    "\n",
    "graph = pd.DataFrame(y,x)\n",
    "#print(graph.dtypes)\n",
    "graph.plot.box() # tabla.plot.scatter(x=\"Age\",y=\"Survived\")"
   ]
  },
  {
   "cell_type": "code",
   "execution_count": null,
   "metadata": {},
   "outputs": [],
   "source": [
    "import pandas as pd\n",
    "tabla = pd.read_csv(r\"C:\\Users\\pc\\Python\\Jupyter\\Datos\\tabla.csv\")\n",
    "tabla.to_excel(\"Ejercicio.xlsx\", sheet_name=\"N#\", index = True) #-> Ruta , Nombre de la hoja, nombre de columnas\n",
    "tabla.plot.area(subplots=True) #-> figsize (x,y) Tamaño en pulgadas"
   ]
  }
 ],
 "metadata": {
  "interpreter": {
   "hash": "e885cd74143ad494932267455ab53278514454996393c47fe6c2589217b9edf3"
  },
  "kernelspec": {
   "display_name": "Python 3.9.6 64-bit",
   "language": "python",
   "name": "python3"
  },
  "language_info": {
   "codemirror_mode": {
    "name": "ipython",
    "version": 3
   },
   "file_extension": ".py",
   "mimetype": "text/x-python",
   "name": "python",
   "nbconvert_exporter": "python",
   "pygments_lexer": "ipython3",
   "version": "3.9.6"
  },
  "orig_nbformat": 4
 },
 "nbformat": 4,
 "nbformat_minor": 2
}
